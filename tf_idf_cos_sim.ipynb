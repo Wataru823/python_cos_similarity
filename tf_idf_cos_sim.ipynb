{
  "nbformat": 4,
  "nbformat_minor": 0,
  "metadata": {
    "colab": {
      "provenance": [],
      "collapsed_sections": []
    },
    "kernelspec": {
      "name": "python3",
      "display_name": "Python 3"
    },
    "language_info": {
      "name": "python"
    },
    "accelerator": "GPU"
  },
  "cells": [
    {
      "cell_type": "code",
      "source": [
        "!apt install aptitude\n",
        "!aptitude install mecab libmecab-dev mecab-ipadic-utf8 git make curl xz-utils file -y\n",
        "!pip3 install mecab-python3==0.7"
      ],
      "metadata": {
        "colab": {
          "base_uri": "https://localhost:8080/"
        },
        "id": "nBvzESSS2Zn2",
        "outputId": "7d4dd3b6-50b1-45fc-e823-e58e45ba298e"
      },
      "execution_count": null,
      "outputs": [
        {
          "output_type": "stream",
          "name": "stdout",
          "text": [
            "Reading package lists... Done\n",
            "Building dependency tree       \n",
            "Reading state information... Done\n",
            "aptitude is already the newest version (0.8.10-6ubuntu1).\n",
            "0 upgraded, 0 newly installed, 0 to remove and 41 not upgraded.\n",
            "mecab is already installed at the requested version (0.996-5)\n",
            "libmecab-dev is already installed at the requested version (0.996-5)\n",
            "mecab-ipadic-utf8 is already installed at the requested version (2.7.0-20070801+main-1)\n",
            "git is already installed at the requested version (1:2.17.1-1ubuntu0.11)\n",
            "make is already installed at the requested version (4.1-9.1ubuntu1)\n",
            "curl is already installed at the requested version (7.58.0-2ubuntu3.18)\n",
            "xz-utils is already installed at the requested version (5.2.2-1.3ubuntu0.1)\n",
            "file is already installed at the requested version (1:5.32-2ubuntu0.4)\n",
            "mecab is already installed at the requested version (0.996-5)\n",
            "libmecab-dev is already installed at the requested version (0.996-5)\n",
            "mecab-ipadic-utf8 is already installed at the requested version (2.7.0-20070801+main-1)\n",
            "git is already installed at the requested version (1:2.17.1-1ubuntu0.11)\n",
            "make is already installed at the requested version (4.1-9.1ubuntu1)\n",
            "curl is already installed at the requested version (7.58.0-2ubuntu3.18)\n",
            "xz-utils is already installed at the requested version (5.2.2-1.3ubuntu0.1)\n",
            "file is already installed at the requested version (1:5.32-2ubuntu0.4)\n",
            "No packages will be installed, upgraded, or removed.\n",
            "0 packages upgraded, 0 newly installed, 0 to remove and 41 not upgraded.\n",
            "Need to get 0 B of archives. After unpacking 0 B will be used.\n",
            "                            \n",
            "Looking in indexes: https://pypi.org/simple, https://us-python.pkg.dev/colab-wheels/public/simple/\n",
            "Requirement already satisfied: mecab-python3==0.7 in /usr/local/lib/python3.7/dist-packages (0.7)\n"
          ]
        }
      ]
    },
    {
      "cell_type": "code",
      "execution_count": null,
      "metadata": {
        "colab": {
          "base_uri": "https://localhost:8080/"
        },
        "id": "oIbulDb52M5H",
        "outputId": "37e8dc25-d12f-4ad1-e681-ecdb8ab0ef32"
      },
      "outputs": [
        {
          "output_type": "stream",
          "name": "stdout",
          "text": [
            "0.4828019697606638\n"
          ]
        }
      ],
      "source": [
        "import requests\n",
        "from bs4 import BeautifulSoup\n",
        "import sys\n",
        "import MeCab\n",
        "from time import sleep\n",
        "import numpy as np\n",
        "from sklearn.feature_extraction.text import TfidfVectorizer\n",
        "\n",
        "##関数定義\n",
        "# URLからテキスト情報をスクレイピングするための関数\n",
        "def geturl(urls):\n",
        "    all_text=[]\n",
        "    for url in urls:\n",
        "        r=requests.get(url)\n",
        "        c=r.content\n",
        "        soup=BeautifulSoup(c,\"html.parser\")\n",
        "        article1_content=soup.find_all(\"p\")\n",
        "        temp=[]\n",
        "        for con in article1_content:\n",
        "            out=con.text\n",
        "            temp.append(out)\n",
        "        text=''.join(temp)\n",
        "        all_text.append(text)\n",
        "        sleep(1)\n",
        "    # print(all_text)\n",
        "    return all_text\n",
        "\n",
        "# テキスト情報をMeCabで形態素解析し、名詞だけ抽出する関数\n",
        "def mplg(article):\n",
        "    word_list = \"\"\n",
        "    m=MeCab.Tagger()\n",
        "    m1=m.parse (text)\n",
        "    for row in m1.split(\"\\n\"):\n",
        "        word =row.split(\"\\t\")[0]#タブ区切りになっている１つ目を取り出す。ここには形態素が格納されている\n",
        "        if word == \"EOS\":\n",
        "            break\n",
        "        else:\n",
        "            pos = row.split(\"\\t\")[1]#タブ区切りになっている2つ目を取り出す。ここには品詞が格納されている\n",
        "            slice = pos[:2]\n",
        "            if slice == \"名詞\":\n",
        "                word_list = word_list +\" \"+ word\n",
        "    # print(word_list)\n",
        "    return word_list\n",
        "\n",
        "# 名詞の出現頻度からTF-IDF/COS類似度を算出し、テキスト情報のマッチ度を測る関数\n",
        "def tfidf(word_list):\n",
        "    docs = np.array(word_list)#Numpyの配列に変換する\n",
        "    #単語を配列ベクトル化して、TF-IDFを計算する\n",
        "    vecs = TfidfVectorizer(\n",
        "                token_pattern=u'(?u)\\\\b\\\\w+\\\\b'#文字列長が 1 の単語を処理対象に含めることを意味する\n",
        "                ).fit_transform(docs)\n",
        "    vecs = vecs.toarray()\n",
        "    return vecs\n",
        "\n",
        "\n",
        "def cossim(v1,v2):\n",
        "    return np.dot(v1, v2) / (np.linalg.norm(v1) * np.linalg.norm(v2))\n",
        "\n",
        "##実装\n",
        "word_list=[]\n",
        "texts=geturl([\"https://ja.wikipedia.org/wiki/%E7%99%BD\",\"https://ja.wikipedia.org/wiki/%E9%BB%92\"])\n",
        "for text in texts:\n",
        "    word_list.append(mplg(text))\n",
        "    \n",
        "vecs=tfidf(word_list)\n",
        "print(cossim(vecs[1],vecs[0]))"
      ]
    }
  ]
}